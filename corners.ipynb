{
 "cells": [
  {
   "cell_type": "markdown",
   "metadata": {},
   "source": [
    "Load Simulation and import"
   ]
  },
  {
   "cell_type": "code",
   "execution_count": 14,
   "metadata": {},
   "outputs": [],
   "source": [
    "from sim_class import Simulation\n",
    "sim = Simulation(num_agents=1)\n"
   ]
  },
  {
   "cell_type": "markdown",
   "metadata": {},
   "source": [
    "Code to run. After running the code is printing the coordinates of the 8 points of the cube"
   ]
  },
  {
   "cell_type": "code",
   "execution_count": null,
   "metadata": {},
   "outputs": [
    {
     "name": "stdout",
     "output_type": "stream",
     "text": [
      "['-0.18700', '0.21950', '0.16950']\n",
      "['0.25300', '-0.17050', '0.16940']\n",
      "['0.25300', '-0.17050', '0.28950']\n",
      "['-0.18700', '0.21950', '0.28950']\n",
      "['-0.18700', '-0.17050', '0.16950']\n",
      "['0.25300', '0.21950', '0.16950']\n",
      "['0.25300', '0.21950', '0.28950']\n",
      "['-0.18700', '-0.17050', '0.28950']\n"
     ]
    },
    {
     "ename": "",
     "evalue": "",
     "output_type": "error",
     "traceback": [
      "\u001b[1;31mThe Kernel crashed while executing code in the current cell or a previous cell. \n",
      "\u001b[1;31mPlease review the code in the cell(s) to identify a possible cause of the failure. \n",
      "\u001b[1;31mClick <a href='https://aka.ms/vscodeJupyterKernelCrash'>here</a> for more info. \n",
      "\u001b[1;31mView Jupyter <a href='command:jupyter.viewOutput'>log</a> for further details."
     ]
    }
   ],
   "source": [
    "corner_velocities = [\n",
    "    [-0.1, 0.1, -0.1, 0],\n",
    "    [-0.01, 0.01, -0.01, 0],\n",
    "    [0.1, -0.1, -0.1, 0],\n",
    "    [0.01, -0.01, -0.01, 0],\n",
    "    [0.1, -0.1, 0.1, 0],\n",
    "    [0.01, -0.01, 0.01, 0],\n",
    "    [-0.1, 0.1, 0.1, 0],\n",
    "    [-0.01, 0.01, 0.01, 0],\n",
    "    [-0.1, -0.1, -0.1, 0],\n",
    "    [-0.01, -0.01, -0.01, 0],\n",
    "    [0.1, 0.1, -0.1, 0],\n",
    "    [0.01, 0.01, -0.01, 0],\n",
    "    [0.1, 0.1, 0.1, 0],\n",
    "    [0.01, 0.01, 0.01, 0],\n",
    "    [-0.1, -0.1, 0.1, 0],\n",
    "    [-0.01, -0.01, 0.01, 0],\n",
    "]\n",
    "# Filter velocities with smaller step (0.01)\n",
    "filtered_velocities = [vel for idx, vel in enumerate(corner_velocities) if idx % 2 == 1]\n",
    " \n",
    "# Loop over only the filtered velocities\n",
    "for velocities in corner_velocities:\n",
    "    actions = [velocities]\n",
    "    sim.run(actions, num_steps=1000)\n",
    "    state = sim.run(actions)\n",
    "    if velocities in filtered_velocities:\n",
    "        pipette_position = state['robotId_1']['pipette_position']\n",
    "        formatted_position = [f\"{pos:.5f}\" for pos in pipette_position]\n",
    "        print(formatted_position)"
   ]
  },
  {
   "cell_type": "markdown",
   "metadata": {},
   "source": [
    "Coordinates Of the 8 points"
   ]
  },
  {
   "cell_type": "markdown",
   "metadata": {},
   "source": [
    "['-0.18700', '0.21950', '0.16950']\n",
    "\n",
    "['0.25300', '-0.17050', '0.16940']\n",
    "\n",
    "['0.25300', '-0.17050', '0.28950']\n",
    "\n",
    "['-0.18700', '0.21950', '0.28950']\n",
    "\n",
    "['-0.18700', '-0.17050', '0.16950']\n",
    "\n",
    "['0.25300', '0.21950', '0.16950']\n",
    "\n",
    "['0.25300', '0.21950', '0.28950']\n",
    "\n",
    "['-0.18700', '-0.17050', '0.28950']"
   ]
  }
 ],
 "metadata": {
  "kernelspec": {
   "display_name": "block_2B_2",
   "language": "python",
   "name": "python3"
  },
  "language_info": {
   "codemirror_mode": {
    "name": "ipython",
    "version": 3
   },
   "file_extension": ".py",
   "mimetype": "text/x-python",
   "name": "python",
   "nbconvert_exporter": "python",
   "pygments_lexer": "ipython3",
   "version": "3.8.16"
  }
 },
 "nbformat": 4,
 "nbformat_minor": 2
}
